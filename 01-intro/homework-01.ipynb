{
 "cells": [
  {
   "cell_type": "code",
   "execution_count": 1,
   "id": "f6540f62",
   "metadata": {},
   "outputs": [],
   "source": [
    "import pandas as pd\n",
    "import numpy as np\n",
    "import seaborn as sns\n",
    "\n",
    "from sklearn.linear_model import LinearRegression\n",
    "from sklearn.feature_extraction import DictVectorizer\n",
    "from sklearn.metrics import mean_squared_error"
   ]
  },
  {
   "cell_type": "code",
   "execution_count": 2,
   "id": "7431a376",
   "metadata": {},
   "outputs": [],
   "source": [
    "df_jan = pd.read_parquet('./fhv_tripdata_2021-01.parquet')"
   ]
  },
  {
   "cell_type": "markdown",
   "id": "2d12ad3c",
   "metadata": {},
   "source": [
    "### Q1"
   ]
  },
  {
   "cell_type": "code",
   "execution_count": 3,
   "id": "ba681b42",
   "metadata": {},
   "outputs": [
    {
     "name": "stdout",
     "output_type": "stream",
     "text": [
      "January dataframe records: 1154112\n"
     ]
    }
   ],
   "source": [
    "n_records = len(df_jan)\n",
    "print('January dataframe records:',n_records)"
   ]
  },
  {
   "cell_type": "markdown",
   "id": "538b673e",
   "metadata": {},
   "source": [
    "### Q2"
   ]
  },
  {
   "cell_type": "code",
   "execution_count": 4,
   "id": "72d0a1be",
   "metadata": {},
   "outputs": [],
   "source": [
    "df_jan['duration'] = df_jan.dropOff_datetime - df_jan.pickup_datetime\n",
    "df_jan.duration = df_jan.duration.apply(lambda x: x.total_seconds() / 60)"
   ]
  },
  {
   "cell_type": "code",
   "execution_count": 5,
   "id": "221d86bf",
   "metadata": {},
   "outputs": [
    {
     "name": "stdout",
     "output_type": "stream",
     "text": [
      "Average duration: 19.167224093791006\n"
     ]
    }
   ],
   "source": [
    "print('Average duration:',df_jan.duration.mean())"
   ]
  },
  {
   "cell_type": "code",
   "execution_count": 6,
   "id": "e64ff833",
   "metadata": {},
   "outputs": [],
   "source": [
    "df_jan = df_jan[(df_jan.duration >= 1) & (df_jan.duration <= 60)]"
   ]
  },
  {
   "cell_type": "code",
   "execution_count": 7,
   "id": "287aeb9c",
   "metadata": {},
   "outputs": [
    {
     "name": "stdout",
     "output_type": "stream",
     "text": [
      "Dropped 44286 outliers\n"
     ]
    }
   ],
   "source": [
    "print(f'Dropped {n_records - len(df_jan)} outliers')"
   ]
  },
  {
   "cell_type": "markdown",
   "id": "eb5df67d",
   "metadata": {},
   "source": [
    "### Q3"
   ]
  },
  {
   "cell_type": "code",
   "execution_count": 8,
   "id": "e2b9daec",
   "metadata": {},
   "outputs": [],
   "source": [
    "df_jan['PUlocationID'] = df_jan['PUlocationID'].fillna(-1)\n",
    "df_jan['DOlocationID'] = df_jan['DOlocationID'].fillna(-1)"
   ]
  },
  {
   "cell_type": "code",
   "execution_count": 9,
   "id": "4c2ceba1",
   "metadata": {},
   "outputs": [
    {
     "name": "stdout",
     "output_type": "stream",
     "text": [
      "Fraction of missing values for PUlocationID: 0.8352732770722617\n"
     ]
    }
   ],
   "source": [
    "print('Fraction of missing values for PUlocationID:',\n",
    "      len(df_jan.loc[df_jan['PUlocationID'] == -1]) / len(df_jan))"
   ]
  },
  {
   "cell_type": "markdown",
   "id": "9cf1478b",
   "metadata": {},
   "source": [
    "### Q4"
   ]
  },
  {
   "cell_type": "code",
   "execution_count": 10,
   "id": "a1c498b3",
   "metadata": {},
   "outputs": [],
   "source": [
    "categorical = ['PUlocationID', 'DOlocationID']\n",
    "df_jan[categorical] = df_jan[categorical].astype(str)"
   ]
  },
  {
   "cell_type": "code",
   "execution_count": 11,
   "id": "a39ca024",
   "metadata": {},
   "outputs": [
    {
     "name": "stdout",
     "output_type": "stream",
     "text": [
      "Dimensionality X_train : (1109826, 525)\n"
     ]
    }
   ],
   "source": [
    "train_dicts = df_jan[categorical].to_dict(orient='records')\n",
    "dv = DictVectorizer()\n",
    "\n",
    "X_train = dv.fit_transform(train_dicts)\n",
    "\n",
    "print('Dimensionality X_train :',X_train.get_shape())"
   ]
  },
  {
   "cell_type": "markdown",
   "id": "f10d8925",
   "metadata": {},
   "source": [
    "### Q5"
   ]
  },
  {
   "cell_type": "code",
   "execution_count": 12,
   "id": "ea813e0a",
   "metadata": {},
   "outputs": [
    {
     "name": "stdout",
     "output_type": "stream",
     "text": [
      "Mean Squared Error on Train: 10.52851938406329\n"
     ]
    }
   ],
   "source": [
    "target = 'duration'\n",
    "y_train = df_jan[target].values\n",
    "\n",
    "lr = LinearRegression()\n",
    "lr.fit(X_train, y_train)\n",
    "\n",
    "y_pred = lr.predict(X_train)\n",
    "\n",
    "print('Mean Squared Error on Train:',mean_squared_error(y_train, y_pred, squared=False))"
   ]
  },
  {
   "cell_type": "markdown",
   "id": "a60b9ab7",
   "metadata": {},
   "source": [
    "### Q6"
   ]
  },
  {
   "cell_type": "code",
   "execution_count": 13,
   "id": "dd746b58",
   "metadata": {},
   "outputs": [],
   "source": [
    "def read_dataframe(filename):\n",
    "    if filename.endswith('.csv'):\n",
    "        df = pd.read_csv(filename)\n",
    "\n",
    "        df.lpep_dropoff_datetime = pd.to_datetime(df.lpep_dropoff_datetime)\n",
    "        df.lpep_pickup_datetime = pd.to_datetime(df.lpep_pickup_datetime)\n",
    "    elif filename.endswith('.parquet'):\n",
    "        df = pd.read_parquet(filename)\n",
    "\n",
    "    df['duration'] = df.dropOff_datetime - df.pickup_datetime\n",
    "    df.duration = df.duration.apply(lambda td: td.total_seconds() / 60)\n",
    "\n",
    "    df = df[(df.duration >= 1) & (df.duration <= 60)]\n",
    "\n",
    "    categorical = ['PUlocationID', 'DOlocationID']\n",
    "    \n",
    "    for cat in categorical:\n",
    "        df[cat] = df[cat].fillna(-1)\n",
    "    \n",
    "    df[categorical] = df[categorical].astype(str)    \n",
    "\n",
    "    return df"
   ]
  },
  {
   "cell_type": "code",
   "execution_count": 14,
   "id": "38c9d953",
   "metadata": {},
   "outputs": [],
   "source": [
    "df_feb = read_dataframe('./fhv_tripdata_2021-02.parquet')"
   ]
  },
  {
   "cell_type": "code",
   "execution_count": 15,
   "id": "1d083c95",
   "metadata": {},
   "outputs": [],
   "source": [
    "val_dicts = df_feb[categorical].to_dict(orient='records')\n",
    "X_val = dv.transform(val_dicts)"
   ]
  },
  {
   "cell_type": "code",
   "execution_count": 16,
   "id": "65bd5e8c",
   "metadata": {},
   "outputs": [
    {
     "name": "stdout",
     "output_type": "stream",
     "text": [
      "Mean Squared Error on Validation: 11.014286963512422\n"
     ]
    }
   ],
   "source": [
    "preds = lr.predict(X_val)\n",
    "actual = df_feb['duration'].values\n",
    "\n",
    "print('Mean Squared Error on Validation:',mean_squared_error(actual, preds, squared=False))"
   ]
  }
 ],
 "metadata": {
  "kernelspec": {
   "display_name": "ml",
   "language": "python",
   "name": "ml"
  },
  "language_info": {
   "codemirror_mode": {
    "name": "ipython",
    "version": 3
   },
   "file_extension": ".py",
   "mimetype": "text/x-python",
   "name": "python",
   "nbconvert_exporter": "python",
   "pygments_lexer": "ipython3",
   "version": "3.9.12"
  }
 },
 "nbformat": 4,
 "nbformat_minor": 5
}
